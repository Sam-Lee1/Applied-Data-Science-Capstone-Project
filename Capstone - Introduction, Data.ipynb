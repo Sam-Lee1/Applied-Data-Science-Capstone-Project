{
 "cells": [
  {
   "cell_type": "markdown",
   "metadata": {
    "collapsed": true
   },
   "source": [
    "# The Battle of Neighbourhoods - A Comparison of Neigbourhoods in Major International Cities"
   ]
  },
  {
   "cell_type": "markdown",
   "metadata": {},
   "source": [
    "## 1. Introduction"
   ]
  },
  {
   "cell_type": "markdown",
   "metadata": {},
   "source": [
    "### 1.A. Discussion of the background and description of the problems"
   ]
  },
  {
   "cell_type": "markdown",
   "metadata": {},
   "source": [
    "We will analyse and compare neighbourhoods in major financial capitals around the world; London, New York, Frankfurt and Toronto. All these cities are diverse, bustling metropolises; containing major stock exchanges, leading businesses and tourist destinations. As such a lot of people visit them or move to them, often not knowing much about the area – we will use Foursquare venue data about neighbourhoods in these cities to help solve this problem, by using it’s venue data to characterise what these neighbourhoods are like, and to categorise similar neighbourhoods, helping people make more informed decisions about what areas to explore moving to or visiting. Residents looking to move elsewhere in the city could similarly leverage this information. We can further examine if any features stand out about these neighbourhoods, ie if they’d particularly suit young families, tourists or professionals. We will then represent this data by mapping the categorised neighbourhoods on the city maps.\n",
    "\n",
    "We will further leverage this data to compare the cities themselves, to see what other features they share and any key differences between them. Further, we shall characterise these cities and examine any stand out features. We will then establish the relative similarity between these cities, ie whether London is more similar to New York or to Toronto. Users will be able to leverage this analysis to spot any gaps in the market – ie popular features in Toronto absent in Frankfurt that might be successful there, or to get an idea of where they’d like to visit or emigrate to."
   ]
  },
  {
   "cell_type": "markdown",
   "metadata": {},
   "source": [
    "### 1.B. Description of the Data and how we will leverage it"
   ]
  },
  {
   "cell_type": "markdown",
   "metadata": {},
   "source": [
    "Post/Zip code area data – we shall scrape data this data as needed from mapawi.com for Frankfurt and London, and from Wikipedia for Toronto, and define these as our neighbourhoods or districts for each area. For New York we shall use the neighbourhoods listed in the NYU spatial data depository.\n",
    "\n",
    "Coordinates – we shall query the geopy python library to get the latitude and longitude for each post/zip code area. For New York, we shall instead use coordinate data from the NYU spatial data depository.\n",
    "\n",
    "Venue data – we shall make calls to the Foursquare api using these coordinates, to obtain information about nearby venues in the catchment area, and to categorise these venues. We will clean and process this categorised venue data to obtain the relative frequency of different venue categories for each neighbourhood, and therefore the most prevalent venue types for each neighbourhood; ie that Central Harlem in New York has African restaurants as its most frequent venue type, whereas for North York in Toronto it is coffee shops."
   ]
  },
  {
   "cell_type": "code",
   "execution_count": null,
   "metadata": {},
   "outputs": [],
   "source": []
  }
 ],
 "metadata": {
  "kernelspec": {
   "display_name": "Python 3.6",
   "language": "python",
   "name": "python3"
  },
  "language_info": {
   "codemirror_mode": {
    "name": "ipython",
    "version": 3
   },
   "file_extension": ".py",
   "mimetype": "text/x-python",
   "name": "python",
   "nbconvert_exporter": "python",
   "pygments_lexer": "ipython3",
   "version": "3.6.8"
  }
 },
 "nbformat": 4,
 "nbformat_minor": 1
}
