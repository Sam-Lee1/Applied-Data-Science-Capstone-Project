{
 "cells": [
  {
   "cell_type": "markdown",
   "metadata": {
    "collapsed": true
   },
   "source": [
    "# The Battle of Neighbourhoods - A Comparison of Neigbourhoods in Major International Cities"
   ]
  },
  {
   "cell_type": "markdown",
   "metadata": {},
   "source": [
    "## 1. Introduction"
   ]
  },
  {
   "cell_type": "markdown",
   "metadata": {},
   "source": [
    "### 1.A. Discussion of the background and description of the problems"
   ]
  },
  {
   "cell_type": "markdown",
   "metadata": {},
   "source": [
    "We will analyse and compare neighbourhoods in major financial capitals around the world; London, New York, Frankfurt and Toronto. All these cities are diverse, bustling metropolises; containing major stock exchanges, leading businesses and tourist destinations. As such a lot of people visit them or move to them, often not knowing much about the area – we will use Foursquare venue data about neighbourhoods in these cities to help solve this problem, by using it’s venue data to characterise what these neighbourhoods are like, and to categorise similar neighbourhoods, helping people make more informed decisions about what areas to explore moving to or visiting. Residents looking to move elsewhere in the city could similarly leverage this information. We can further examine if any features stand out about these neighbourhoods, ie if they’d particularly suit young families, tourists or professionals. We will then represent this data by mapping the categorised neighbourhoods on the city maps.\n",
    "\n",
    "We will further leverage this data to compare the cities themselves, to see what other features they share and any key differences between them. Further, we shall characterise these cities and examine any stand out features. We will then establish the relative similarity between these cities, ie whether London is more similar to New York or to Toronto. Users will be able to leverage this analysis to spot any gaps in the market – ie popular features in Toronto absent in Frankfurt that might be successful there, or to get an idea of where they’d like to visit or emigrate to."
   ]
  },
  {
   "cell_type": "code",
   "execution_count": null,
   "metadata": {},
   "outputs": [],
   "source": []
  }
 ],
 "metadata": {
  "kernelspec": {
   "display_name": "Python 3.6",
   "language": "python",
   "name": "python3"
  },
  "language_info": {
   "codemirror_mode": {
    "name": "ipython",
    "version": 3
   },
   "file_extension": ".py",
   "mimetype": "text/x-python",
   "name": "python",
   "nbconvert_exporter": "python",
   "pygments_lexer": "ipython3",
   "version": "3.6.8"
  }
 },
 "nbformat": 4,
 "nbformat_minor": 1
}
